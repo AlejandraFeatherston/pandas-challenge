{
 "cells": [
  {
   "cell_type": "code",
   "execution_count": null,
   "id": "1e5fb5eb",
   "metadata": {},
   "outputs": [],
   "source": [
    "import csv\n",
    "import os\n",
    "import pandas as pd\n",
    "\n",
    "student_fp = \"../Resources/students_complete.csv\"\n",
    "school_fp = \"../Resources/schools_complete.csv\"\n",
    "\n",
    "student_df = pd.read_csv(student_fp)\n",
    "school_df = pd.read_csv(school_fp)"
   ]
  },
  {
   "cell_type": "code",
   "execution_count": null,
   "id": "6828634a",
   "metadata": {},
   "outputs": [],
   "source": [
    "student_df.head()"
   ]
  },
  {
   "cell_type": "code",
   "execution_count": null,
   "id": "f72aaab8",
   "metadata": {},
   "outputs": [],
   "source": [
    "school_df.head()"
   ]
  },
  {
   "cell_type": "code",
   "execution_count": null,
   "id": "86da8cfc",
   "metadata": {},
   "outputs": [],
   "source": [
    "# Finding the total number of students and schools\n",
    "\n",
    "num_schools = school_df[\"school_name\"].nunique()\n",
    "num_students = student_df[\"student_name\"].nunique()\n",
    "\n",
    "print(num_schools)\n",
    "print(num_students)"
   ]
  },
  {
   "cell_type": "code",
   "execution_count": null,
   "id": "b0707ce4",
   "metadata": {},
   "outputs": [],
   "source": [
    "# Finding the total budget for all of the schools\n",
    "\n",
    "total_budget = school_df['budget'].sum()\n",
    "print(total_budget)"
   ]
  },
  {
   "cell_type": "code",
   "execution_count": null,
   "id": "468255b1",
   "metadata": {},
   "outputs": [],
   "source": [
    "# Finding the average math score for all of the students\n",
    "\n",
    "avg_math_score = round(student_df[\"math_score\"].mean(), 2)\n",
    "print(str(avg_math_score) + \"%\")"
   ]
  },
  {
   "cell_type": "code",
   "execution_count": null,
   "id": "a43fd0a6",
   "metadata": {},
   "outputs": [],
   "source": [
    "# Making a df to look at the students passing math - score over 65%\n",
    "\n",
    "passing_math_count = student_df.[student_df[\"math_score\"] > 65]"
   ]
  },
  {
   "cell_type": "code",
   "execution_count": 81,
   "id": "354237e1",
   "metadata": {},
   "outputs": [
    {
     "name": "stdout",
     "output_type": "stream",
     "text": [
      "85.17%\n"
     ]
    }
   ],
   "source": [
    "# Percent of students passing math - score over 65%\n",
    "\n",
    "passing_math_total=passing_math_df['student_name'].nunique()\n",
    "percent_passing_math = round(passing_math_total/num_students*100, 2)\n",
    "print(str(percent_passing_math) + \"%\")"
   ]
  },
  {
   "cell_type": "code",
   "execution_count": null,
   "id": "f64b29cb",
   "metadata": {},
   "outputs": [],
   "source": [
    "# Making a df to look at the students passing reading - score over 65%\n",
    "\n",
    "passing_reading_df = student_df.loc[student_df[\"reading_score\"] > 65, [\"student_name\", \"gender\", \"grade\", 'school_name', \"reading_score\"]]"
   ]
  },
  {
   "cell_type": "code",
   "execution_count": 83,
   "id": "cde110a1",
   "metadata": {},
   "outputs": [
    {
     "name": "stdout",
     "output_type": "stream",
     "text": [
      "94.94%\n"
     ]
    }
   ],
   "source": [
    "# Calculating the percentage of students passing reading - score greater than 65%\n",
    "\n",
    "passing_reading_total = passing_reading_df['student_name'].nunique()\n",
    "percent_passing_reading = round(passing_reading_total/num_students*100, 2)\n",
    "print(str(percent_passing_reading) + \"%\")"
   ]
  },
  {
   "cell_type": "code",
   "execution_count": null,
   "id": "536cc91d",
   "metadata": {},
   "outputs": [],
   "source": [
    "# Making a df to look at the students that are passing math and reading - scores greater than 65%\n",
    "\n",
    "overall_passing_df = student_df.loc[(student_df[\"reading_score\"] > 65) & (student_df[\"math_score\"] > 65), [\"student_name\", \"gender\", \"grade\", 'school_name', \"reading_score\", \"math_score\"]]"
   ]
  },
  {
   "cell_type": "code",
   "execution_count": 85,
   "id": "1a5a9317",
   "metadata": {},
   "outputs": [
    {
     "name": "stdout",
     "output_type": "stream",
     "text": [
      "81.23%\n"
     ]
    }
   ],
   "source": [
    "# Caculating the number of students that are passing math and reading - scores greater than 65%\n",
    "\n",
    "overall_passing_total = overall_passing_df[\"student_name\"].nunique()\n",
    "percent_overall_passing = round(overall_passing_total/num_students*100, 2)\n",
    "print(str(percent_overall_passing) + \"%\")"
   ]
  },
  {
   "cell_type": "code",
   "execution_count": 86,
   "id": "e1109ab6",
   "metadata": {},
   "outputs": [
    {
     "data": {
      "text/html": [
       "<div>\n",
       "<style scoped>\n",
       "    .dataframe tbody tr th:only-of-type {\n",
       "        vertical-align: middle;\n",
       "    }\n",
       "\n",
       "    .dataframe tbody tr th {\n",
       "        vertical-align: top;\n",
       "    }\n",
       "\n",
       "    .dataframe thead th {\n",
       "        text-align: right;\n",
       "    }\n",
       "</style>\n",
       "<table border=\"1\" class=\"dataframe\">\n",
       "  <thead>\n",
       "    <tr style=\"text-align: right;\">\n",
       "      <th></th>\n",
       "      <th>Total Unique Schools</th>\n",
       "      <th>Total Students</th>\n",
       "      <th>Total Budget</th>\n",
       "      <th>Average Math Score</th>\n",
       "      <th>% Passing Math</th>\n",
       "      <th>% Passing Reading</th>\n",
       "      <th>% Passing Overall</th>\n",
       "    </tr>\n",
       "  </thead>\n",
       "  <tbody>\n",
       "    <tr>\n",
       "      <th>0</th>\n",
       "      <td>15</td>\n",
       "      <td>32715</td>\n",
       "      <td>24649428</td>\n",
       "      <td>78.99</td>\n",
       "      <td>85.17</td>\n",
       "      <td>94.94</td>\n",
       "      <td>81.23</td>\n",
       "    </tr>\n",
       "  </tbody>\n",
       "</table>\n",
       "</div>"
      ],
      "text/plain": [
       "   Total Unique Schools  Total Students  Total Budget  Average Math Score  \\\n",
       "0                    15           32715      24649428               78.99   \n",
       "\n",
       "   % Passing Math  % Passing Reading  % Passing Overall  \n",
       "0           85.17              94.94              81.23  "
      ]
     },
     "execution_count": 86,
     "metadata": {},
     "output_type": "execute_result"
    }
   ],
   "source": [
    "# Making a DF with a summary of district statitics\n",
    "\n",
    "district_df = pd.DataFrame({\n",
    "    \"Total Unique Schools\": [num_schools],\n",
    "    \"Total Students\": [num_students],\n",
    "    \"Total Budget\": [total_budget],\n",
    "    \"Average Math Score\": [avg_math_score],\n",
    "    \"% Passing Math\": [percent_passing_math],\n",
    "    \"% Passing Reading\": [percent_passing_reading],\n",
    "    \"% Passing Overall\": [percent_overall_passing]\n",
    "})\n",
    "district_df"
   ]
  },
  {
   "cell_type": "code",
   "execution_count": 88,
   "id": "1a5ab8dd",
   "metadata": {},
   "outputs": [
    {
     "data": {
      "text/plain": [
       "School ID  school_name            type      size  budget \n",
       "0          Huang High School      District  2917  1910635    1\n",
       "1          Figueroa High School   District  2949  1884411    1\n",
       "2          Shelton High School    Charter   1761  1056600    1\n",
       "3          Hernandez High School  District  4635  3022020    1\n",
       "4          Griffin High School    Charter   1468  917500     1\n",
       "5          Wilson High School     Charter   2283  1319574    1\n",
       "6          Cabrera High School    Charter   1858  1081356    1\n",
       "7          Bailey High School     District  4976  3124928    1\n",
       "8          Holden High School     Charter   427   248087     1\n",
       "9          Pena High School       Charter   962   585858     1\n",
       "10         Wright High School     Charter   1800  1049400    1\n",
       "11         Rodriguez High School  District  3999  2547363    1\n",
       "12         Johnson High School    District  4761  3094650    1\n",
       "13         Ford High School       District  2739  1763916    1\n",
       "14         Thomas High School     Charter   1635  1043130    1\n",
       "Name: count, dtype: int64"
      ]
     },
     "execution_count": 88,
     "metadata": {},
     "output_type": "execute_result"
    }
   ],
   "source": [
    "school_df.value_counts()"
   ]
  },
  {
   "cell_type": "code",
   "execution_count": null,
   "id": "4a5c2eb7",
   "metadata": {},
   "outputs": [],
   "source": [
    "school_df_copy = school_df.copy()\n",
    "\n",
    "by_school_df = school_df_copy.set_index('school_name', inplace=True)\n",
    "\n",
    "by_school_df"
   ]
  },
  {
   "cell_type": "code",
   "execution_count": 137,
   "id": "fc6e64e5",
   "metadata": {},
   "outputs": [],
   "source": []
  },
  {
   "cell_type": "code",
   "execution_count": null,
   "id": "7d87f5c6",
   "metadata": {},
   "outputs": [],
   "source": []
  },
  {
   "cell_type": "code",
   "execution_count": null,
   "id": "06cad415",
   "metadata": {},
   "outputs": [],
   "source": []
  },
  {
   "cell_type": "code",
   "execution_count": null,
   "id": "a3ba558a",
   "metadata": {},
   "outputs": [],
   "source": []
  }
 ],
 "metadata": {
  "kernelspec": {
   "display_name": "Python 3 (ipykernel)",
   "language": "python",
   "name": "python3"
  },
  "language_info": {
   "codemirror_mode": {
    "name": "ipython",
    "version": 3
   },
   "file_extension": ".py",
   "mimetype": "text/x-python",
   "name": "python",
   "nbconvert_exporter": "python",
   "pygments_lexer": "ipython3",
   "version": "3.11.5"
  }
 },
 "nbformat": 4,
 "nbformat_minor": 5
}
